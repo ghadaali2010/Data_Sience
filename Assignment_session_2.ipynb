{
  "nbformat": 4,
  "nbformat_minor": 0,
  "metadata": {
    "colab": {
      "name": "Assignment_session_2.ipynb",
      "provenance": [],
      "authorship_tag": "ABX9TyOktHRgWUhyF2dXeaOR63Ob",
      "include_colab_link": true
    },
    "kernelspec": {
      "name": "python3",
      "display_name": "Python 3"
    },
    "language_info": {
      "name": "python"
    }
  },
  "cells": [
    {
      "cell_type": "markdown",
      "metadata": {
        "id": "view-in-github",
        "colab_type": "text"
      },
      "source": [
        "<a href=\"https://colab.research.google.com/github/ghadaali2010/Data_Sience/blob/main/Assignment_session_2.ipynb\" target=\"_parent\"><img src=\"https://colab.research.google.com/assets/colab-badge.svg\" alt=\"Open In Colab\"/></a>"
      ]
    },
    {
      "cell_type": "code",
      "source": [
        "#Import NumPy as np\n",
        "import numpy as np"
      ],
      "metadata": {
        "id": "-QNJXyM8Ogqw"
      },
      "execution_count": 8,
      "outputs": []
    },
    {
      "cell_type": "code",
      "source": [
        "#Create an array of 10 zeros\n",
        "arr=np.zeros([1,10])\n",
        "print(arr)"
      ],
      "metadata": {
        "colab": {
          "base_uri": "https://localhost:8080/"
        },
        "id": "VujzFY0KOgnn",
        "outputId": "61447eb6-b81f-4542-813f-7e8fc2f9fe46"
      },
      "execution_count": 15,
      "outputs": [
        {
          "output_type": "stream",
          "name": "stdout",
          "text": [
            "[[0. 0. 0. 0. 0. 0. 0. 0. 0. 0.]]\n"
          ]
        }
      ]
    },
    {
      "cell_type": "code",
      "source": [
        "#Create an array of 10 ones\n",
        "arr1=np.ones([1,10])\n",
        "print(arr1)"
      ],
      "metadata": {
        "colab": {
          "base_uri": "https://localhost:8080/"
        },
        "id": "mIHO2_d2Ogk_",
        "outputId": "fcddc112-0092-4ece-9f7f-f6e4258de95b"
      },
      "execution_count": 16,
      "outputs": [
        {
          "output_type": "stream",
          "name": "stdout",
          "text": [
            "[[1. 1. 1. 1. 1. 1. 1. 1. 1. 1.]]\n"
          ]
        }
      ]
    },
    {
      "cell_type": "code",
      "source": [
        "#Create an array of 10 fives\n",
        "arr2=(np.ones([1,10])*5)\n",
        "print(arr2)"
      ],
      "metadata": {
        "colab": {
          "base_uri": "https://localhost:8080/"
        },
        "id": "-fmXfHc-OghK",
        "outputId": "4d3201fc-e7d5-4ba4-e603-c02d994d4ad6"
      },
      "execution_count": 17,
      "outputs": [
        {
          "output_type": "stream",
          "name": "stdout",
          "text": [
            "[[5. 5. 5. 5. 5. 5. 5. 5. 5. 5.]]\n"
          ]
        }
      ]
    },
    {
      "cell_type": "code",
      "source": [
        "#Create an array of the integers from 10 to 50\n",
        "arr3=np.arange(10,51)\n",
        "print(arr3)"
      ],
      "metadata": {
        "colab": {
          "base_uri": "https://localhost:8080/"
        },
        "id": "vHKFv4DXOgd3",
        "outputId": "d5dfdae3-9245-482c-a281-12826d3cac3f"
      },
      "execution_count": 19,
      "outputs": [
        {
          "output_type": "stream",
          "name": "stdout",
          "text": [
            "[10 11 12 13 14 15 16 17 18 19 20 21 22 23 24 25 26 27 28 29 30 31 32 33\n",
            " 34 35 36 37 38 39 40 41 42 43 44 45 46 47 48 49 50]\n"
          ]
        }
      ]
    },
    {
      "cell_type": "code",
      "source": [
        "#Create an array of all the even integers from 10 to 50\n",
        "arr4=np.arange(10,51,2)\n",
        "print(arr4)"
      ],
      "metadata": {
        "colab": {
          "base_uri": "https://localhost:8080/"
        },
        "id": "p5jvJM6gOgbG",
        "outputId": "c8c540aa-0d8f-48ea-f025-d4ab943a8f08"
      },
      "execution_count": 21,
      "outputs": [
        {
          "output_type": "stream",
          "name": "stdout",
          "text": [
            "[10 12 14 16 18 20 22 24 26 28 30 32 34 36 38 40 42 44 46 48 50]\n"
          ]
        }
      ]
    },
    {
      "cell_type": "code",
      "source": [
        "#Create a 3x3 matrix with values ranging from 0 to 8\n",
        "arr5=np.arange(0,9).reshape(3,3)\n",
        "print(arr5)"
      ],
      "metadata": {
        "colab": {
          "base_uri": "https://localhost:8080/"
        },
        "id": "RBFioH74OgXn",
        "outputId": "4f2f8b28-d209-4463-d6c1-8bc3da3d006d"
      },
      "execution_count": 25,
      "outputs": [
        {
          "output_type": "stream",
          "name": "stdout",
          "text": [
            "[[0 1 2]\n",
            " [3 4 5]\n",
            " [6 7 8]]\n"
          ]
        }
      ]
    },
    {
      "cell_type": "code",
      "source": [
        "#Create a 3x3 identity matrix\n",
        "I=np.identity(3) # build identity  matrix\n",
        "print(I)"
      ],
      "metadata": {
        "colab": {
          "base_uri": "https://localhost:8080/"
        },
        "id": "ALl13YwXOgUD",
        "outputId": "1efbae94-4798-4a86-c01e-a6089ec8a972"
      },
      "execution_count": 26,
      "outputs": [
        {
          "output_type": "stream",
          "name": "stdout",
          "text": [
            "[[1. 0. 0.]\n",
            " [0. 1. 0.]\n",
            " [0. 0. 1.]]\n"
          ]
        }
      ]
    },
    {
      "cell_type": "code",
      "source": [
        "#Use NumPy to generate a random number between 0 and 1\n",
        "r=np.random.randint(0,1)\n",
        "print(r)"
      ],
      "metadata": {
        "colab": {
          "base_uri": "https://localhost:8080/"
        },
        "id": "rlYS1rpFOgK0",
        "outputId": "f6e1f30c-d6c4-42a3-de59-ab4b80a4c239"
      },
      "execution_count": 33,
      "outputs": [
        {
          "output_type": "stream",
          "name": "stdout",
          "text": [
            "0\n"
          ]
        }
      ]
    },
    {
      "cell_type": "code",
      "source": [
        "#Use NumPy to generate an array of 25 random numbers sampled from a standard normal distribution\n",
        "arr6=np.random.normal(0,1,25)\n",
        "print(arr6)"
      ],
      "metadata": {
        "colab": {
          "base_uri": "https://localhost:8080/"
        },
        "id": "q1juw-kIOf5j",
        "outputId": "6b1ecbfc-9b06-4774-eae8-66ca1355b93c"
      },
      "execution_count": 37,
      "outputs": [
        {
          "output_type": "stream",
          "name": "stdout",
          "text": [
            "[-0.71356543  0.13398835 -0.09640697  1.46206286 -0.93929049 -0.60704879\n",
            " -2.15202207 -0.27569579  0.50099236  0.42195781  0.24594824  0.25863658\n",
            "  1.24503207 -0.10592862  0.64574096 -0.00818304  0.24941542  0.03031731\n",
            " -0.01036864 -0.42131813  2.2445559  -0.42732321  0.27213525 -0.78107778\n",
            " -0.07147908]\n"
          ]
        }
      ]
    },
    {
      "cell_type": "code",
      "source": [
        "#Create the following matrix\n",
        "arr7=np.arange(1,101).reshape(10,10) / 100\n",
        "print(arr7)"
      ],
      "metadata": {
        "colab": {
          "base_uri": "https://localhost:8080/"
        },
        "id": "LA3RgClnUQzl",
        "outputId": "21d2edc3-cb3f-408c-9476-a7a716bb2e74"
      },
      "execution_count": 38,
      "outputs": [
        {
          "output_type": "stream",
          "name": "stdout",
          "text": [
            "[[0.01 0.02 0.03 0.04 0.05 0.06 0.07 0.08 0.09 0.1 ]\n",
            " [0.11 0.12 0.13 0.14 0.15 0.16 0.17 0.18 0.19 0.2 ]\n",
            " [0.21 0.22 0.23 0.24 0.25 0.26 0.27 0.28 0.29 0.3 ]\n",
            " [0.31 0.32 0.33 0.34 0.35 0.36 0.37 0.38 0.39 0.4 ]\n",
            " [0.41 0.42 0.43 0.44 0.45 0.46 0.47 0.48 0.49 0.5 ]\n",
            " [0.51 0.52 0.53 0.54 0.55 0.56 0.57 0.58 0.59 0.6 ]\n",
            " [0.61 0.62 0.63 0.64 0.65 0.66 0.67 0.68 0.69 0.7 ]\n",
            " [0.71 0.72 0.73 0.74 0.75 0.76 0.77 0.78 0.79 0.8 ]\n",
            " [0.81 0.82 0.83 0.84 0.85 0.86 0.87 0.88 0.89 0.9 ]\n",
            " [0.91 0.92 0.93 0.94 0.95 0.96 0.97 0.98 0.99 1.  ]]\n"
          ]
        }
      ]
    },
    {
      "cell_type": "code",
      "source": [
        "#Create an array of 20 linearly spaced points between 0 and 1:\n",
        "arr8=np.arange(0,1,0.0522)\n",
        "print(arr8)"
      ],
      "metadata": {
        "colab": {
          "base_uri": "https://localhost:8080/"
        },
        "id": "zVGm-4LlUQwL",
        "outputId": "770d4339-3e93-4627-b5f1-f7b2f66c7e0b"
      },
      "execution_count": 45,
      "outputs": [
        {
          "output_type": "stream",
          "name": "stdout",
          "text": [
            "[0.     0.0522 0.1044 0.1566 0.2088 0.261  0.3132 0.3654 0.4176 0.4698\n",
            " 0.522  0.5742 0.6264 0.6786 0.7308 0.783  0.8352 0.8874 0.9396 0.9918]\n"
          ]
        }
      ]
    },
    {
      "cell_type": "code",
      "source": [
        "#WRITE CODE HERE THAT REPRODUCES THE OUTPUT OF THE CELL BELOW array([[12, 13, 14, 15],\n",
        "      # [17, 18, 19, 20],\n",
        "      # [22, 23, 24, 25]])\n",
        "mat = np.arange(1,26).reshape(5,5)\n",
        "mat=mat[2:,1:]\n",
        "print(mat)"
      ],
      "metadata": {
        "colab": {
          "base_uri": "https://localhost:8080/"
        },
        "id": "g9s9LqYtUQtE",
        "outputId": "d7f29340-dd7f-4d5b-de4d-7fa4ec3bbd88"
      },
      "execution_count": 53,
      "outputs": [
        {
          "output_type": "stream",
          "name": "stdout",
          "text": [
            "[[12 13 14 15]\n",
            " [17 18 19 20]\n",
            " [22 23 24 25]]\n"
          ]
        }
      ]
    },
    {
      "cell_type": "code",
      "source": [
        "#WRITE CODE HERE THAT REPRODUCES THE OUTPUT OF THE CELL BELOW 20\n",
        "x= mat[1,3]\n",
        "print(x)"
      ],
      "metadata": {
        "colab": {
          "base_uri": "https://localhost:8080/"
        },
        "id": "Kwqs80dtUQp9",
        "outputId": "779ef383-b151-447b-f637-0a81f2bf4131"
      },
      "execution_count": 57,
      "outputs": [
        {
          "output_type": "stream",
          "name": "stdout",
          "text": [
            "20\n"
          ]
        }
      ]
    },
    {
      "cell_type": "code",
      "source": [
        "#WRITE CODE HERE THAT REPRODUCES THE OUTPUT OF THE CELL BELOW  \n",
        "#array([[ 2],\n",
        "# [ 7],\n",
        "# [12]])\n",
        "\n",
        "mat = np.arange(1,26).reshape(5,5)\n",
        "mat=mat[:3,1:2]\n",
        "print(mat)"
      ],
      "metadata": {
        "colab": {
          "base_uri": "https://localhost:8080/"
        },
        "id": "hKosGYY2UQnH",
        "outputId": "91146e49-f05c-47a3-811b-aa79cc6c2b2e"
      },
      "execution_count": 64,
      "outputs": [
        {
          "output_type": "stream",
          "name": "stdout",
          "text": [
            "[[ 2]\n",
            " [ 7]\n",
            " [12]]\n"
          ]
        }
      ]
    },
    {
      "cell_type": "code",
      "source": [
        "# WRITE CODE HERE THAT REPRODUCES THE OUTPUT OF THE CELL BELOW array([21, 22, 23, 24, 25])\n",
        "arr=np.arange(21,26,1)\n",
        "print(arr)"
      ],
      "metadata": {
        "colab": {
          "base_uri": "https://localhost:8080/"
        },
        "id": "jBznf4CGsKaZ",
        "outputId": "6dd997ef-7465-4173-8055-f3cc326617e6"
      },
      "execution_count": 68,
      "outputs": [
        {
          "output_type": "stream",
          "name": "stdout",
          "text": [
            "[21 22 23 24 25]\n"
          ]
        }
      ]
    },
    {
      "cell_type": "code",
      "source": [
        "#WRITE CODE HERE THAT REPRODUCES THE OUTPUT OF THE CELL BELOW array([[16, 17, 18, 19, 20],\n",
        "     #  [21, 22, 23, 24, 25]])\n",
        "arr=np.arange(16,26,1).reshape(2,5)\n",
        "print(arr)"
      ],
      "metadata": {
        "colab": {
          "base_uri": "https://localhost:8080/"
        },
        "id": "nvOoPxBPUQkL",
        "outputId": "45014f7f-5cee-46ad-c316-62ea19db57d8"
      },
      "execution_count": 69,
      "outputs": [
        {
          "output_type": "stream",
          "name": "stdout",
          "text": [
            "[[16 17 18 19 20]\n",
            " [21 22 23 24 25]]\n"
          ]
        }
      ]
    },
    {
      "cell_type": "code",
      "source": [
        "#Get the sum of all the values in mat\n",
        "mat = np.arange(1,26).reshape(5,5)\n",
        "mats = mat.sum()\n",
        "print(mats)  "
      ],
      "metadata": {
        "colab": {
          "base_uri": "https://localhost:8080/"
        },
        "id": "ZTw4sNVWUQg1",
        "outputId": "31ea4b84-dfdf-4b13-800e-ac68c1359969"
      },
      "execution_count": 75,
      "outputs": [
        {
          "output_type": "stream",
          "name": "stdout",
          "text": [
            "325\n"
          ]
        }
      ]
    },
    {
      "cell_type": "code",
      "source": [
        "#Get the standard deviation of the values in mat\n",
        "matsd=mat.std()\n",
        "print(matsd)"
      ],
      "metadata": {
        "colab": {
          "base_uri": "https://localhost:8080/"
        },
        "id": "wA8KEDQ2UQdq",
        "outputId": "c228f20e-a5dd-4042-8ecc-105446b9f9b4"
      },
      "execution_count": 76,
      "outputs": [
        {
          "output_type": "stream",
          "name": "stdout",
          "text": [
            "7.211102550927978\n"
          ]
        }
      ]
    },
    {
      "cell_type": "code",
      "source": [
        "#Get the sum of all the columns in mat\n",
        "matsa = mat.sum(axis=0)\n",
        "print(matsa)"
      ],
      "metadata": {
        "colab": {
          "base_uri": "https://localhost:8080/"
        },
        "id": "sM7jvcN1UQa3",
        "outputId": "6c1146cf-3d11-48bb-bc40-34b106c1ce17"
      },
      "execution_count": 77,
      "outputs": [
        {
          "output_type": "stream",
          "name": "stdout",
          "text": [
            "[55 60 65 70 75]\n"
          ]
        }
      ]
    },
    {
      "cell_type": "code",
      "execution_count": 1,
      "metadata": {
        "colab": {
          "base_uri": "https://localhost:8080/"
        },
        "id": "nbgmkGTiaWwc",
        "outputId": "07dc9982-ceff-4380-ceb6-4f49f3d76c85"
      },
      "outputs": [
        {
          "output_type": "stream",
          "name": "stdout",
          "text": [
            "[[ 4 12 28]\n",
            " [12 35 63]\n",
            " [ 3  8 24]]\n"
          ]
        }
      ],
      "source": [
        "#Write a Numpy program to compute the multiplication of two given matrixes\n",
        "import numpy as np\n",
        "a=np.array([[1,2,4],[3,7,7],[1,2,4]])\n",
        "b=np.array([[4,6,7],[4,5,9],[3,4,6]])\n",
        "c_Mul=a*b\n",
        "print(c_Mul)"
      ]
    },
    {
      "cell_type": "code",
      "source": [
        "#Write a NumPy program to compute the determinant of a given square array\n",
        "import numpy as np\n",
        "a=np.array([[1,2,5],[3,7,7],[2,4,6]]) \n",
        "print(a)\n",
        "A=np.linalg.det(a)\n",
        "print(A)"
      ],
      "metadata": {
        "colab": {
          "base_uri": "https://localhost:8080/"
        },
        "id": "TWqqLohaSE0x",
        "outputId": "11c612d3-e1e2-4bf4-b6aa-2e43faa1f552"
      },
      "execution_count": 2,
      "outputs": [
        {
          "output_type": "stream",
          "name": "stdout",
          "text": [
            "[[1 2 5]\n",
            " [3 7 7]\n",
            " [2 4 6]]\n",
            "-3.9999999999999973\n"
          ]
        }
      ]
    },
    {
      "cell_type": "code",
      "source": [
        "#Write a NumPy program to compute the cross product of two given vectors\n",
        "import numpy as np\n",
        "p = [[1, 11], [10, 1]]\n",
        "q = [[1, 4], [13, 4]]\n",
        "print(p)\n",
        "print(q)\n",
        "result1 = np.cross(p, q)\n",
        "print(result1)"
      ],
      "metadata": {
        "colab": {
          "base_uri": "https://localhost:8080/"
        },
        "id": "jqDg93MHS_d0",
        "outputId": "34b25511-e1f8-4889-9cda-4dd6ffb91d24"
      },
      "execution_count": 5,
      "outputs": [
        {
          "output_type": "stream",
          "name": "stdout",
          "text": [
            "[[1, 11], [10, 1]]\n",
            "[[1, 4], [13, 4]]\n",
            "[-7 27]\n"
          ]
        }
      ]
    },
    {
      "cell_type": "code",
      "source": [
        "#Write a NumPy program to compute the condition number of a given matrix\n",
        "import numpy as np\n",
        "matrix = np.array([[4, 2, 0], [3, 1, 2], [1, 6, 4]])\n",
        "print(matrix)\n",
        "result =  np.linalg.cond(matrix) \n",
        "print(\"Condition number of the matrix =\",result)"
      ],
      "metadata": {
        "colab": {
          "base_uri": "https://localhost:8080/"
        },
        "id": "w_g91XtXWmPx",
        "outputId": "01c02688-15fb-4d40-91c8-cfe2f57f6f4b"
      },
      "execution_count": 1,
      "outputs": [
        {
          "output_type": "stream",
          "name": "stdout",
          "text": [
            "[[4 2 0]\n",
            " [3 1 2]\n",
            " [1 6 4]]\n",
            "Condition number of the matrix = 5.347703616656448\n"
          ]
        }
      ]
    },
    {
      "cell_type": "code",
      "source": [
        "#Write a NumPy program to compute the inverse of a given matrix\n",
        "import numpy as np\n",
        "a=np.array([[1,2],[3,7]]) \n",
        "print('the original matrix',a)\n",
        "A=np.linalg.inv(a)\n",
        "print('the inverse matrix is',A)\n",
        "I=a.dot(A)\n",
        "print('the identity matrix is',I)"
      ],
      "metadata": {
        "colab": {
          "base_uri": "https://localhost:8080/"
        },
        "id": "9l2FXTLBK2Y2",
        "outputId": "16ee65f0-f3b2-478b-fb57-e8d9d9fdcfb4"
      },
      "execution_count": 1,
      "outputs": [
        {
          "output_type": "stream",
          "name": "stdout",
          "text": [
            "the original matrix [[1 2]\n",
            " [3 7]]\n",
            "the inverse matrix is [[ 7. -2.]\n",
            " [-3.  1.]]\n",
            "the identity matrix is [[ 1.0000000e+00  0.0000000e+00]\n",
            " [-4.4408921e-15  1.0000000e+00]]\n"
          ]
        }
      ]
    },
    {
      "cell_type": "markdown",
      "source": [
        "# Task 1\n",
        "**Tensor** just means arrays with more than 2d. If you are already comfortable with einsum then it will be simplest compare the results to that **Tensordot** swaps axes and reshapes the inputs so it can apply np.dot to 2 2d arrays. It then swaps and reshapes back to the target.\n",
        "\n",
        "**The Tensor product** of two vector spaces captures the properties of all bilinear maps in the sense that a bilinear map from  ![01.09.2022_06.40.27_REC.png](data:image/png;base64,iVBORw0KGgoAAAANSUhEUgAAADUAAAAfCAYAAABH0YUgAAAACXBIWXMAAA7EAAAOxAGVKw4bAAAEZUlEQVRYhe2YT0hUXRjGn8lmKYXWWNJCZCBQwSGLCRfNTIvcJEb+QdDFmBHWwnAh2mbcauTKRaTQLhrbRAQRZhhKNdGuxCwQWmUhEk24sJlzft/C5uZ8dxz9/kgY/nb3OXPe+z7nPec93PEA6A9jz+9OYDvYNbVT2DW1U9g1tVPYNbVT2DW1U9i7/uHRo0cKBAIqKCjQgQMHND09rUgk4ozfu3dPgAD5fD6dPn36f09ofHxcR48eld/v18LCgt6/f6+WlhY9e/ZM1lodO3ZMi4uLevv2rVpaWiTJGQPk8XgkfmKtJRQKEQ6HkcTq6iqxWIz1dHZ2IolwOExzczPbQXNzM5FIBEkUFxfT2NgIwMDAAKFQCEmcOnWKpqYmrLUARKNRJFFaWkpbWxv6e9BYLIYkksmk64UvXrygtLTUCZYPYwzT09P09/fT19fHxMQExpgtGZucnEQSjx8/ztKfPn2KJOLxeJaeTqcpLy9ndnYWgA3P1NzcXNYzoNraWr18+XKtxHmYm5tTa2urpqamdPz4cfl8PvX29mr//v1KJBKy1uadn4n/7du3LH1iYkKS9Pr16yz9zp076u7uVmVlpZNsFoODgzlXIxqNcuTIkU2r9OXLFyorK5mZmXGN/fjxA0k8efIkb9VmZmaQxK1btxzt+fPnnDhxAklEo1FHN8YQDAaz4rlMPXz4EEncuHHD0ZLJJJI23T7pdNpJWhLt7e2usWvXrlFSUsLXr183jDM/P48khoaGgLXz3tjYyOrqKl6vl7NnzzqLOzY25tqmLlMLCwtIoqenxwkoievXr+c1BPDgwQPKysqAtfMniYKCAowxSOLmzZsADA8PEwqFNoyzvLyMJPr7+wFIJBLU19eTTqc5fPgwwWAQay2fPn3i/Pnzrt3jMpVOp/F6vbS2tmKtZXR0FElbag5dXV1ZFV5aWkKSa1E+fvzIwYMHN4yZyeHChQsYYwgEAhhjMMZQVVWF3+/HWktXVxcfPnxwzXc1Co/HI5/Pp8XFRVlrdenSJb17927T5vDzfGrv3l9XX1FRkSTJ6/Xq/v37ju71ep17JReZHD5//qxkMqmamhrt2bOWanFxsZaWljQ1NaWioiL5/f6ciWRhraW6uprCwkIuXrxIfX39phXKcPv2bU6ePAngbLl4PI4xhnPnzjEyMgLA3bt3nd/lwlpLIBAgFApRUVHhnOXMXSqJuro6vn//nnN+TlN1dXVIoqysbMt3C/xqBqlUytVBjTGUl5czMjKCJCYnJ/OaCgaDhMNhhoeHs/SMqdHR0Q3nu0wBXLlyhX379uV98Ua8evUKSU5V1pOp3vj4eN7FstZy6NChrC6X0Zuamjhz5kze+TlNxeNxrl69uqXmkCvx2dlZamtr6evrI5FIkEqlnOrFYjFSqVTeGNZaGhoaePPmjWvs8uXLOfX15DT1XzHGsLKyQkdHBxUVFU4HHBsb+0fb+d/ige39hzYTHnA62Haz7aZ+B3/kR+KuqZ3CX6gwND3ILuNYAAAAAElFTkSuQmCC)  into another vector space Z factors uniquely through a linear map \n",
        "Tensor products are used in many application areas, including physics and engineering. For example, in general relativity, the gravitational field is described through the metric tensor, which is a vector field of tensors, one at each point of the space-time manifold, and each belonging to the tensor product with itself of the cotangent space at the point.\n",
        "\n",
        "*Difference between tensor products and tensor dot product with examples.*\n",
        "\n",
        "The dot product is the usual product from basic geometry. Let us work on R3, the euclidean three-dimensional space. Given two vectors sitting on the origin, v,w∈R3 we define the dot product between them to be:\n",
        "![01.09.2022_06.33.34_REC.png](data:image/png;base64,iVBORw0KGgoAAAANSUhEUgAAAO4AAAAvCAYAAADkWvYzAAAACXBIWXMAAA7EAAAOxAGVKw4bAAAIW0lEQVR4nO3df0jUeR7H8edee/tdPJxjD+0WmqNDvQ6ngrELbAhcL85+cJ67rLRLky55tuTlsXPNktyAcgNJQtJwBnrF6hqrZ6zuHNuuR5rQ2YDpQDUD5QidI0QjJ02sNFL4jY3v/eFUWv4cZ2y/9n78pd8f7/m85zOv768RfE3TNA0hhK786GUPQAixdBJcIXRIgiuEDklwhdAhCa4QOiTBFUKHJLhC6JAEVwgdkuAKoUMSXCF0SIIrhA5JcIXQIQmuEDokwRVChyS4QuiQBFcIHZLgCqFDElwhdEiCK4QOSXCF0CEJrhA6JMF9Bfkasqm59rJHkRirubfpJLivogcT8P3LHkSCrObepkl4cMOeWor/XMLeLCtNQyqg0l+TTcavbXwzHktFlUCjjeI/WcndU0X3WHTxWCf2whJa/zv188EsE7kNQ3HrY66xBM9VPDeWEB0fZZGx4wyBxwvv/8PpZW7LmcNQV/Vz+wKqn4Y/FuK8NAGqH9ceExm2TiIJ7+RFeu0tscEd76HGZcBxvISND/24Oqc+fG8mpQI9DN5aeknVU8uRsJV6ez6GETetnhAAYW8n39yMoE7bNjQQILT8LuY2dJYjV3NwRcfS0XcPeBPlJ8DoAINj8+/+g+plLsuZw5E2jrjTqInuW/O1f2r50GXq+4ZQeePZtl1DDC54oIszHff2enzLzRS+6kW1Wkm/0UYHmdjfMwOQVVZBUUMzGcalVpygvy/MwQ+ziXjrCGDGuXWqyHDAA0klbEkD1uTjsDfTe9vIrC8R8dPafJm7i3zVjJ1lFGQqLywPeC9jeb8Z9WoJAQqx70kBoODoURovjWJ8ewV6SbDlzGHQ62HLgTpSb9TSgULR9ql9Q7f8qOSwxaSAYqbcYaWhcR2/WImGptFzbwkNbmpeJfWo9Fe7Uc1HyU2btnLdNjbO9sEe66T8vQp6s07Q+498UmesTCbXUQeM0HrUD+ZKLOsBhvD1AHuyMa15tvUus2n2gRnMFNnMy+oNwHSgDRMhWk/5UfaVYUmatnJ3JhvXzLkrcetlXvfoP/tP+u/PXBq6CsNjdbgGZi7/6db9lG5PmbEspjmMSt93Ggcqvc421CQruVsVYIJBrxc2HWXLtMk1bsvCOO/79Sr1trCEBheAx0P0ulVMtm2kRwevej105OXhnKcZ5Q1QHwOzbTMyQPtNMDmiNe8FuT4Kls1pTJ0X73Hdk0quMzne3bxozEuvHwoOZfPknBzsc7N2ex0GVAJnq2j8zkDkfAjFbIDxyyjWf+PanRJTL6GuWlw+wOtDXZ+K8jDE8NYqOg6ZefGaIAXLARuW55b6Hp2hK8eGPXuRPcY4h9EN6T0HFOZED2xBBi8BhaantQLeb9mVU7nIwTyxmntbWOKDe8tL90PI/dWTw9kE3W4PpSVzNPN2PvUD+fPXHB8lAJRmRmveHqIXKE2LXtuMD9AbycE+1xEzTpfKU6W89JKNMz26/vEQ3c1GCtqNcPMMf/1fIR0OA02dhZxffwiL5xHByGRsvYx34mpLw/7FTgY/zcbOIUof9ND73fS74QSYbw5HO7FXtTHoU/mg3U1p2hBNHx/jTtEpnDtSYDxMCLCYoweisSCBh2DZsO7p+9V/6Q9Yylm41kr3BjDWg6Osgo7bVlrcabRWq9g/s04Fcym9AXCP7qpD2NtHKPrcTUb7MVRbM0XTz/SLlPjgKskYAFVVAQX12mka36qkdfMyaqasIwsIRyaAZELBIABq9GuAYKeb1EOnnh71XhCnS2UAJckABFAfTf0e+rqO/o8qaEkBkq202pNR7nVyfVQh9x0bDrst9l4MeThPKxjw034JLJX7sRfasMelk/manHsOfa4TGPdVQF8Vd+6qsMbH+b4I7zqiQXvLiDEJ+iMTU33dHmEYSI0+rFH73PR/aOVwEvjqF6i1wr0BhIMhtlQPUMNZih1+9rqOPftcLaE3AMaChMzVXHdC08eVXH/3BDUxhBbgtcT/m02VQGMFR1rCbPltKiHycDrySZ/9BLbomsFzVRyuC5CRY+Sukkfxeg/1LWE2ZiuoG2zUlJgxxPm+YlaPQ3Qfq8DpT2XXhgjh2V7bW0tGWQhXTx0FySrq6wrK0/Ux9DLqpnjHCSxfejm8WUVler2F+WpNdOUEcCz2cnKeOVQjE0Q8x7BUGWgZqCSjqwyL00jLQCWW6ByHPbUcrvoKtr4DDzMp/t0oLad8rM02EknKo6YqH+OaxdVayd6mi1xrpgMrpb+ZuWKxvc0s5qfpX1B0YLbbm0XSRMIMf/Z7LT37hFZ/Mk9L3/25NqxNaleOva/VB2Krd/9ipWbacECrP31USzdXal33Ne1O2wHtyIXIkupcP5GpHR+IbQwvmtT+87dMzeS4qN3XNO3K8UzN9Mm32t2XVCu+vU25c/HvWuPVSU37flKbnFxmsdBF7WSzT5vUNG3yQezF5C+nEkkxYNgQZHgkE8u4lxZXBU0/q6I0M8Z6axQMmxQGb6jkrvfRXV+NM1CIPW9pD+Gyyr2Ux+dOAZggPAr8PBXD4xECV8G0zfzctwErVyu+vUHIXYbj9k6KzAoht43c0/7Yi426OegIsfsDM8ptN+V7TuOL8fvdFbhUFqtduLOCgkaFvZsDNLSHOPylF3uM4YlnreVS/Wcov7CO0l/2UO70oOz4hKaTJZiSFt53lmI0/KUHY9E6uj+tplfJwV5fR+mm2C6WJbhieUY9NH0VxLS/hLUXrBS48+hwl8z4Dvql1FrlEv9UWaxqaniIrith+LENVyCP1i9iD1o8a612csYVQofk4ZQQOiTBFUKHJLhC6JAEVwgdkuAKoUMSXCF0SIIrhA5JcIXQIQmuEDr0fxU+7WzwZkBJAAAAAElFTkSuQmCC)\n",
        "\n",
        "**Tensor dot Product** can describe as an operation between two tensors of any orders. For example, the dot product between two second and third order tensors can be written as:\n",
        "![01.09.2022_06.48.58_REC.png](data:image/png;base64,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)"
      ],
      "metadata": {
        "id": "xppfXjPYalaC"
      }
    },
    {
      "cell_type": "markdown",
      "source": [],
      "metadata": {
        "id": "-PvSWV7yaehY"
      }
    }
  ]
}